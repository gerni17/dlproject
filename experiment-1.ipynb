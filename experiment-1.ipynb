{
 "cells": [
  {
   "cell_type": "code",
   "execution_count": null,
   "metadata": {},
   "outputs": [],
   "source": [
    "%matplotlib inline\n",
    "import matplotlib.pyplot as plt\n",
    "\n",
    "from torchvision.utils import make_grid\n",
    "from torch import nn\n",
    "from pytorch_lightning import Trainer\n",
    "from preprocessing.image_transform import ImageTransform\n",
    "from datasets.monet import MonetDataModule\n",
    "from datasets.agri import AgriDataModule\n",
    "from systems.cycle_gan_system import CycleGANSystem\n",
    "from models.generators import CycleGANGenerator\n",
    "from models.discriminators import CycleGANDiscriminator\n",
    "from utils.weight_initializer import init_weights\n",
    "\n",
    "data_dir = './data'\n",
    "domain = \"domainB\""
   ]
  },
  {
   "cell_type": "code",
   "execution_count": null,
   "metadata": {},
   "outputs": [],
   "source": [
    "# Sanity Check\n",
    "transform = ImageTransform(img_size=256)\n",
    "batch_size = 8\n",
    "\n",
    "dm = AgriDataModule(data_dir, transform, batch_size, domain=domain)\n",
    "dm.prepare_data() # call first initialization function before we start asking for data\n",
    "dm.setup() # call second initialization function before we start asking for data\n",
    "\n",
    "dataloader = dm.test_dataloader() # get the loader that returns us data\n",
    "batch = next(iter(dataloader)) # ask for the next batch of data\n",
    "base, style = (batch['source'], batch['target'])\n",
    "\n",
    "print('Input Shape {}, {}'.format(base.size(), style.size())) # check the shapes of the batch tensors"
   ]
  },
  {
   "cell_type": "code",
   "execution_count": null,
   "metadata": {},
   "outputs": [],
   "source": [
    "temp = make_grid(base, nrow=4, padding=2).permute(1, 2, 0).detach().numpy()\n",
    "temp = temp * 0.5 + 0.5\n",
    "temp = temp * 255.0\n",
    "temp = temp.astype(int)\n",
    "\n",
    "fig = plt.figure(figsize=(18, 8), facecolor='w')\n",
    "plt.imshow(temp)\n",
    "plt.axis('off')\n",
    "plt.title('Source Domain')\n",
    "plt.show()\n",
    "\n",
    "temp = make_grid(style, nrow=4, padding=2).permute(1, 2, 0).detach().numpy()\n",
    "temp = temp * 0.5 + 0.5\n",
    "temp = temp * 255.0\n",
    "temp = temp.astype(int)\n",
    "\n",
    "fig = plt.figure(figsize=(18, 8), facecolor='w')\n",
    "plt.imshow(temp)\n",
    "plt.axis('off')\n",
    "plt.title('Target Domain')\n",
    "plt.show()"
   ]
  },
  {
   "cell_type": "code",
   "execution_count": null,
   "metadata": {},
   "outputs": [],
   "source": [
    "# Config  -----------------------------------------------------------------\n",
    "transform = ImageTransform(img_size=256)\n",
    "batch_size = 8\n",
    "lr = {\n",
    "    'G': 0.0002,\n",
    "    'D': 0.0002\n",
    "}\n",
    "epoch = 180\n",
    "seed = 42\n",
    "reconstr_w = 10\n",
    "id_w = 2\n",
    "\n",
    "# DataModule  -----------------------------------------------------------------\n",
    "dm = AgriDataModule(data_dir, transform, batch_size, domain=domain)\n",
    "viz_set = AgriDataModule(data_dir, transform, 4, domain=domain)\n",
    "\n",
    "G_basestyle = CycleGANGenerator(filter=32)\n",
    "G_stylebase = CycleGANGenerator(filter=32)\n",
    "D_base = CycleGANDiscriminator(filter=32)\n",
    "D_style = CycleGANDiscriminator(filter=32)\n",
    "\n",
    "# Init Weight  --------------------------------------------------------------\n",
    "for net in [G_basestyle, G_stylebase, D_base, D_style]:\n",
    "    init_weights(net, init_type='normal')\n",
    "\n",
    "# LightningModule  --------------------------------------------------------------\n",
    "vs = AgriDataModule(data_dir, transform, batch_size, domain=domain)\n",
    "model = CycleGANSystem(G_basestyle, G_stylebase, D_base, D_style, lr, transform, reconstr_w, id_w)\n",
    "\n",
    "# Trainer  --------------------------------------------------------------\n",
    "trainer = Trainer(\n",
    "    logger=False,\n",
    "    max_epochs=epoch,\n",
    "    gpus=1,\n",
    "    checkpoint_callback=False,\n",
    "    reload_dataloaders_every_epoch=True,\n",
    "    num_sanity_val_steps=0,  # Skip Sanity Check\n",
    ")\n",
    "\n",
    "# Train\n",
    "trainer.fit(model, datamodule=dm)"
   ]
  }
 ],
 "metadata": {
  "interpreter": {
   "hash": "970b6d1045365541d5720985b752e91a341d480eea884bbd96abb60afbec2006"
  },
  "kernelspec": {
   "display_name": "Python 3.8.6 64-bit",
   "name": "python3"
  },
  "language_info": {
   "codemirror_mode": {
    "name": "ipython",
    "version": 3
   },
   "file_extension": ".py",
   "mimetype": "text/x-python",
   "name": "python",
   "nbconvert_exporter": "python",
   "pygments_lexer": "ipython3",
   "version": "3.8.6"
  },
  "orig_nbformat": 4
 },
 "nbformat": 4,
 "nbformat_minor": 2
}
