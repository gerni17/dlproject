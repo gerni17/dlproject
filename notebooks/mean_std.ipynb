{
 "cells": [
  {
   "cell_type": "code",
   "execution_count": 1,
   "metadata": {},
   "outputs": [],
   "source": [
    "import os\n",
    "import sys\n",
    "import numpy as np\n",
    "import torch\n",
    "from PIL import Image\n",
    "# from torchvision.datasets import Cityscapes\n",
    "from tqdm import tqdm\n",
    "from collections import namedtuple\n",
    "import torchvision\n"
   ]
  },
  {
   "cell_type": "code",
   "execution_count": 32,
   "metadata": {},
   "outputs": [
    {
     "name": "stdout",
     "output_type": "stream",
     "text": [
      "rgb\n",
      "(1600, 3)\n",
      "tot_mean [31.91585741 27.6638663  21.54151065]\n",
      "tot_std [6.87016723 6.68624823 4.44775208]\n",
      "semseg  not rgb dir\n"
     ]
    }
   ],
   "source": [
    "path=\"/home/gian/git/deeplabv3p/data/exp/train\"\n",
    "means=np.empty((0,3))\n",
    "stds=np.empty((0,3))\n",
    "for dirname in os.listdir(path):\n",
    "    if os.path.isdir(os.path.join(path, dirname)) and dirname=='rgb':\n",
    "        print(\"rgb\")\n",
    "        path_dir=os.path.join(path, dirname)\n",
    "        files=[name for name in os.listdir(path_dir) if os.path.isfile(os.path.join(path_dir, name))]\n",
    "        for i, filename in enumerate(files):\n",
    "            # print(dirname + \"/\" + filename)\n",
    "            # ope image, convert to rgb and calculate mean  \n",
    "            image = Image.open(path_dir + \"/\" + filename)\n",
    "            rgb_im = image.convert('RGB')\n",
    "            data = np.asarray(rgb_im)\n",
    "            mean=np.expand_dims(np.mean(data,axis=(0,1)),axis=0)\n",
    "            std=np.expand_dims(np.std(data,axis=(0,1)),axis=0)\n",
    "            means=np.concatenate((means,mean),axis=0)\n",
    "            stds=np.concatenate((stds,std),axis=0)\n",
    "            # if i >10:\n",
    "            #     break\n",
    "\n",
    "        print(means.shape)\n",
    "        print(\"tot_mean\",np.mean(means,axis=0))\n",
    "        print(\"tot_std\",np.mean(stds,axis=0))\n",
    "            \n",
    "    else:\n",
    "        print(dirname,\" not rgb dir\")"
   ]
  },
  {
   "cell_type": "code",
   "execution_count": null,
   "metadata": {},
   "outputs": [],
   "source": []
  }
 ],
 "metadata": {
  "interpreter": {
   "hash": "7a71f5ed76151cfff7357cb67350fe836f8644889baaa283cdb8cb2354a12eea"
  },
  "kernelspec": {
   "display_name": "Python 3.9.7 64-bit ('ml': conda)",
   "name": "python3"
  },
  "language_info": {
   "codemirror_mode": {
    "name": "ipython",
    "version": 3
   },
   "file_extension": ".py",
   "mimetype": "text/x-python",
   "name": "python",
   "nbconvert_exporter": "python",
   "pygments_lexer": "ipython3",
   "version": "3.9.7"
  }
 },
 "nbformat": 4,
 "nbformat_minor": 5
}
